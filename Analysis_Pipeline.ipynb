{
 "cells": [
  {
   "cell_type": "code",
   "execution_count": null,
   "id": "6f2ff1b1-c56b-47f7-bf34-1371c8663b76",
   "metadata": {},
   "outputs": [],
   "source": [
    "import numpy as np\n",
    "from scipy.signal import find_peaks\n",
    "import matplotlib.pyplot as plt\n",
    "import os\n",
    "from math import log, floor\n",
    "from scipy import signal\n",
    "from scipy.signal import savgol_filter\n",
    "from sklearn.decomposition import TruncatedSVD\n",
    "from sklearn.cluster import KMeans\n",
    "from scipy.io import savemat\n",
    "from collections import Counter\n",
    "from sklearn.decomposition import TruncatedSVD\n",
    "from sklearn.cluster import KMeans\n",
    "from sklearn.preprocessing import StandardScaler\n",
    "from sklearn.ensemble import RandomForestClassifier\n",
    "from sklearn.model_selection import train_test_split\n",
    "import scipy.stats as stats\n",
    "import math\n",
    "import pandas as pd\n",
    "from scipy.signal import resample\n",
    "import seaborn as sns\n",
    "from scipy.fft import fft, fftfreq\n",
    "from sklearn.decomposition import PCA\n",
    "from sklearn.preprocessing import StandardScaler\n",
    "from sklearn.metrics import silhouette_samples, silhouette_score\n",
    "import numpy as np\n",
    "from scipy import signal\n",
    "from scipy.ndimage import shift\n",
    "import matplotlib.pyplot as plt\n",
    "import sys\n",
    "\n",
    "import pywt\n",
    "\n",
    "from sklearn.mixture import GaussianMixture\n",
    "from multiprocessing import Pool\n",
    "import time\n",
    "from multiprocessing import Pool\n",
    "from tqdm.autonotebook import tqdm\n",
    "import ex_features\n",
    "import pandas as pd\n",
    "import statsmodels.api as sm\n",
    "from statsmodels.formula.api import ols\n",
    "import moving_avg\n",
    "from starter_func import *\n",
    "import numpy as np\n",
    "import pandas as pd\n",
    "from scipy.stats import chi2_contingency\n",
    "%load_ext autoreload\n",
    "%autoreload 2"
   ]
  },
  {
   "cell_type": "markdown",
   "id": "a8b86af2-dbfd-4488-b9b2-ee8e1cca9af1",
   "metadata": {},
   "source": [
    "## Loading Data "
   ]
  },
  {
   "cell_type": "code",
   "execution_count": null,
   "id": "fc77b643-8fb8-4080-8ce2-7ae3adb45a36",
   "metadata": {},
   "outputs": [],
   "source": [
    "dir_path = \" \"\n",
    "main_dir = f\"{dir_path}/Data\" \n",
    "vm_trace, ca_trace = data_load(main_dir=main_dir) "
   ]
  },
  {
   "cell_type": "markdown",
   "id": "c43cbd86-348e-4a44-9e23-d10dd68a5a53",
   "metadata": {},
   "source": [
    "## Event Detection "
   ]
  },
  {
   "cell_type": "markdown",
   "id": "bf6e8ed4-11ac-4fa5-8976-c95f26f86441",
   "metadata": {},
   "source": [
    "### Average Subtraction "
   ]
  },
  {
   "cell_type": "code",
   "execution_count": null,
   "id": "748659e7-ff39-4aee-95e8-037664f32c37",
   "metadata": {},
   "outputs": [],
   "source": [
    "if __name__ == '__main__':\n",
    "    start_time = time.perf_counter()\n",
    "    with Pool(15) as p:\n",
    "        avg_subtracted_par = list(tqdm(p.imap(moving_avg.moving_avg_subtraction, vm_trace), total=len(vm_trace)))\n",
    "    finish_time = time.perf_counter()\n",
    "    print(\"Program finished in {} seconds - using serial processing\".format(finish_time-start_time))"
   ]
  },
  {
   "cell_type": "markdown",
   "id": "d347a926-2094-45ac-8f64-d53010c1ffba",
   "metadata": {},
   "source": [
    "### Peak Detection "
   ]
  },
  {
   "cell_type": "code",
   "execution_count": null,
   "id": "8cf33ce4-ee33-492f-9080-04abbc4979c1",
   "metadata": {},
   "outputs": [],
   "source": [
    "peaks_comb = peak_sort_(smooth_vm=vm_trace)"
   ]
  },
  {
   "cell_type": "markdown",
   "id": "a795a782-8e95-4dbe-bc86-dae79e67552e",
   "metadata": {},
   "source": [
    "### Onset & End Detection "
   ]
  },
  {
   "cell_type": "code",
   "execution_count": null,
   "id": "f42da07a-f77f-4ea0-9439-9ad0898b771e",
   "metadata": {},
   "outputs": [],
   "source": [
    "onsets, ends = onset_end_func(avg_subtracted=avg_subtracted_par, peaks_comb=peaks_comb)\n",
    "unique_on = [unique_preserve_order(a) for a in onsets]\n",
    "unique_en = [unique_preserve_order(a) for a in ends]\n"
   ]
  },
  {
   "cell_type": "code",
   "execution_count": null,
   "id": "5dd3a451-e39c-40e2-84c2-fb004136d4f0",
   "metadata": {
    "scrolled": true
   },
   "outputs": [],
   "source": [
    "#removing any false positive APs\n",
    "event_dict = [{'onsets': onsets, 'ends': ends}]\n",
    "filtered_events = remove_false_positives(vm_trace, event_dict, threshold=-20)\n",
    "\n",
    "# Extract onsets and ends from the first dictionary (assuming 1 signal)\n"
   ]
  },
  {
   "cell_type": "code",
   "execution_count": null,
   "id": "ea926f02-92a8-4902-937a-62660b336852",
   "metadata": {},
   "outputs": [],
   "source": [
    "onset_ = [event['onsets'] for event in filtered_events]\n",
    "end_ = [event['ends'] for event in filtered_events]"
   ]
  },
  {
   "cell_type": "markdown",
   "id": "79ad9b86-1e57-4531-ad47-a0c04d77f208",
   "metadata": {},
   "source": [
    "### Recording Plot Example (Original)"
   ]
  },
  {
   "cell_type": "code",
   "execution_count": null,
   "id": "0e6f4b7f-b6e8-420c-8dd1-4a672ad85151",
   "metadata": {},
   "outputs": [],
   "source": [
    "plt.figure(figsize=(20, 6))\n",
    "plt.rcParams.update({'font.size': 14})\n",
    "n = 90\n",
    "t = np.linspace(0, 100, len(vm_trace[n]))\n",
    "fs = len(vm_trace[n])/100\n",
    "plt.plot(t, vm_trace[n], color = 'black')\n",
    "plt.xlabel(\"Time (s)\")\n",
    "plt.ylabel(\"Potential (mV)\")\n",
    "plt.ylim(-80, 30)\n",
    "plt.show()"
   ]
  },
  {
   "cell_type": "markdown",
   "id": "574f0c7c-c8cd-42bc-bfe0-a974809b1976",
   "metadata": {},
   "source": [
    "### Recording Plot Example (Onset & End marked) "
   ]
  },
  {
   "cell_type": "code",
   "execution_count": null,
   "id": "733bf08f-4c11-4f80-bd5c-50f1521a0cad",
   "metadata": {},
   "outputs": [],
   "source": [
    "plt.figure(figsize=(20, 6))\n",
    "plt.rcParams.update({'font.size': 14})\n",
    "n = 90\n",
    "t = np.linspace(0, 90, len(avg_subtracted_par[n]))\n",
    "#t = np.linspace(0, 100, len(vm_trace[70]))\n",
    "fs = len(avg_subtracted_par[n])/90\n",
    "#fs = len(avg_subtracted_par[20])/100\n",
    "plt.plot(t, avg_subtracted_par[n], color = 'black')\n",
    "#plt.plot(t, vm_trace[70], color = 'black')\n",
    "plt.xlabel(\"Time (s)\")\n",
    "plt.ylabel(\"Potential (mV)\")\n",
    "#plt.xlim(0, 95)\n",
    "plt.ylim(-20, 100)\n",
    "for start, end in zip(onset_[n][:-1], end_[n][:-1]):\n",
    "    plt.axvline(x=start/fs, color='green', linestyle='-', linewidth=1)\n",
    "    plt.axvline(x= end/fs, color='red', linestyle='-', linewidth=1)"
   ]
  },
  {
   "cell_type": "markdown",
   "id": "a5adc864-f222-4e1a-a063-7af6fccc3c69",
   "metadata": {},
   "source": [
    "### Extract Events "
   ]
  },
  {
   "cell_type": "code",
   "execution_count": null,
   "id": "1c2ec760-d462-40d5-856b-76519b901249",
   "metadata": {},
   "outputs": [],
   "source": [
    "events = extract_events_unmerged(vm_trace, onset_, end_, 'vm') #membrane voltage events \n",
    "ca_events = extract_events_unmerged(ca_trace, onset_, end_, 'ca') #calcium imaging events "
   ]
  },
  {
   "cell_type": "code",
   "execution_count": null,
   "id": "406b6933-2b14-484c-8570-32ebc5fc79cb",
   "metadata": {},
   "outputs": [],
   "source": [
    "#Calcium signal with added noise for further analysis\n",
    "sig = 0.5*0.007\n",
    "ca_events_gauss = add_noise_to_signals(ca_events, noise_type='gaussian', sigma=sig)\n",
    "ca_events_sp = add_noise_to_signals(ca_events, noise_type='salt_and_pepper')\n"
   ]
  },
  {
   "cell_type": "markdown",
   "id": "304e6c19-30ca-46ec-96de-17d6000cda1e",
   "metadata": {},
   "source": [
    "## Feature Extraction "
   ]
  },
  {
   "cell_type": "code",
   "execution_count": null,
   "id": "7acd0efa-2a6d-4ba8-a00c-2b6374e97a1f",
   "metadata": {},
   "outputs": [],
   "source": [
    "## Frequency Features "
   ]
  },
  {
   "cell_type": "code",
   "execution_count": null,
   "id": "70034238-aac1-4c85-8507-ef5966fa63ab",
   "metadata": {},
   "outputs": [],
   "source": [
    "features_vm_freq = extract_features_freq(unique_events) #membrane potential frequency features \n",
    "len(features_vm_freq)"
   ]
  },
  {
   "cell_type": "code",
   "execution_count": null,
   "id": "8d0c2963-9269-486a-995e-e839888c7d34",
   "metadata": {},
   "outputs": [],
   "source": [
    "features_ca_freq = extract_features_freq(ca_unique_events) #calcium activity frequency features \n",
    "len(features_ca_freq)"
   ]
  },
  {
   "cell_type": "code",
   "execution_count": null,
   "id": "f7f59107-7734-4c94-8428-69e2e0cbadb4",
   "metadata": {},
   "outputs": [],
   "source": [
    "features_vm_freq = np.array(features_vm_freq)\n",
    "features_ca_freq = np.array(features_ca_freq)"
   ]
  },
  {
   "cell_type": "code",
   "execution_count": null,
   "id": "20f8d9e3-e74d-4ea9-9077-44347a9e1c78",
   "metadata": {},
   "outputs": [],
   "source": [
    "####To plot the length of the detected events#####\n",
    "\n",
    "event_len = []\n",
    "\n",
    "for i in range(0, len(unique_events[0])):\n",
    "    for j in range(0, len(unique_events[i])):\n",
    "        event_len.append(len(unique_events[i][j]))\n",
    "    \n",
    "event_len = np.array(event_len)\n",
    "event_len = event_len/10 #event length calculated in ms. Approx fs taken as 1000 \n",
    "event_len_log = np.log(event_len)\n",
    "len_mean = np.mean(event_len)\n",
    "len_median = np.median(event_len)\n",
    "num_bins = 50\n",
    "\n",
    "plt.hist(event_len, bins=num_bins, color = 'green') \n",
    "plt.axline((len_mean, 0), slope = np.inf, color= 'red', label = 'Mean Event Length')\n",
    "plt.axline((len_median, 0), slope = np.inf, color= 'black', label = 'Median Event Length')\n",
    "plt.legend(loc='best', fontsize='small', title='', frameon=True, shadow=True, fancybox=True)\n",
    "plt.xlabel(\"Event Length (ms)\")\n",
    "plt.ylabel(\"Number of Events\")\n",
    "plt.ylim(0, 100)\n",
    "plt.show()"
   ]
  },
  {
   "cell_type": "markdown",
   "id": "6ee1f6a4-f860-436a-8be8-57f50f5ab9dd",
   "metadata": {},
   "source": [
    "## Clustering "
   ]
  },
  {
   "cell_type": "code",
   "execution_count": null,
   "id": "793b9904-d9cb-4835-bb46-eea356ba16c2",
   "metadata": {},
   "outputs": [],
   "source": [
    "gmm_clus_analysis(np.array(features_vm_freq))"
   ]
  },
  {
   "cell_type": "code",
   "execution_count": null,
   "id": "dd12e730-4041-4bfc-b081-8a44e02e775f",
   "metadata": {},
   "outputs": [],
   "source": [
    "print(features_vm_freq.shape)\n",
    "print(features_vm_freq_edited.shape)"
   ]
  },
  {
   "cell_type": "code",
   "execution_count": null,
   "id": "13423a08-5931-42df-90c2-3081ecc08b9d",
   "metadata": {},
   "outputs": [],
   "source": [
    "gmm = GaussianMixture(n_components=7, random_state=0)\n",
    "gmm.fit(features_vm_freq)\n",
    "original_clusters = gmm.fit_predict(features_vm_freq)"
   ]
  },
  {
   "cell_type": "code",
   "execution_count": null,
   "id": "7ac96eca-2df1-4683-bec2-9e303d0c9d70",
   "metadata": {},
   "outputs": [],
   "source": [
    "probabilities = gmm.predict_proba(features_vm_freq)\n",
    "labels = assign_labels_with_threshold(probabilities)"
   ]
  },
  {
   "cell_type": "code",
   "execution_count": null,
   "id": "f4b06576-d158-4d6b-8746-83ea4c5f6a21",
   "metadata": {},
   "outputs": [],
   "source": [
    "frequency = Counter(labels)\n",
    "print(frequency)"
   ]
  },
  {
   "cell_type": "markdown",
   "id": "599b5d73-e060-4dd1-9670-449f3baf17a9",
   "metadata": {},
   "source": [
    "## Classifier "
   ]
  },
  {
   "cell_type": "code",
   "execution_count": null,
   "id": "85261811-ee31-440f-8ec0-f889a4097ffa",
   "metadata": {},
   "outputs": [],
   "source": [
    "##Accuracy for GMM\n",
    "X_train, X_test, y_train, y_test = train_test_split(features_ca_freq, labels, test_size=0.4, random_state=42)\n",
    "\n",
    "\n",
    "rf_clf = RandomForestClassifier(n_estimators=1000, random_state=42)\n",
    "\n",
    "\n",
    "rf_clf.fit(X_train, y_train)\n",
    "\n",
    "\n",
    "y_pred = rf_clf.predict(X_test)\n",
    "\n",
    "\n",
    "from sklearn.metrics import accuracy_score\n",
    "\n",
    "accuracy = accuracy_score(y_test, y_pred)\n",
    "print(f\"Accuracy: {accuracy:.2f}\")"
   ]
  },
  {
   "cell_type": "code",
   "execution_count": null,
   "id": "5a6f0738-1b8b-41a8-a85f-f728ef6f9d48",
   "metadata": {},
   "outputs": [],
   "source": [
    "from sklearn.model_selection import cross_val_score\n",
    "rf_claf = RandomForestClassifier(n_estimators=100, random_state=42)\n",
    "cv_scores = cross_val_score(rf_claf, X_train, y_train, cv=5)\n",
    "\n",
    "# Output the results\n",
    "print(\"Cross-validation scores:\", cv_scores)\n",
    "print(\"Average score:\", np.mean(cv_scores))"
   ]
  },
  {
   "cell_type": "code",
   "execution_count": null,
   "id": "61e50975-e122-48f2-a51d-33d6a72ab5d0",
   "metadata": {},
   "outputs": [],
   "source": [
    "import numpy as np\n",
    "import matplotlib.pyplot as plt\n",
    "\n",
    "# For classification\n",
    "from sklearn.ensemble import RandomForestClassifier\n",
    "from sklearn.model_selection import train_test_split\n",
    "from sklearn.metrics import (confusion_matrix, classification_report,\n",
    "                             accuracy_score, matthews_corrcoef, cohen_kappa_score)\n",
    "\n",
    "cm = confusion_matrix(y_test, y_pred)\n",
    "\n",
    "print(\"Confusion Matrix:\")\n",
    "print(cm)\n",
    "\n",
    "# 2. Classification Report\n",
    "print(\"\\nClassification Report:\")\n",
    "print(classification_report(y_test, y_pred))\n",
    "\n",
    "# 3. Additional Metrics\n",
    "\n",
    "# Accuracy\n",
    "accuracy = accuracy_score(y_test, y_pred)\n",
    "print(\"Accuracy: {:.3f}\".format(accuracy))\n",
    "\n",
    "# Matthews Correlation Coefficient (MCC)\n",
    "mcc = matthews_corrcoef(y_test, y_pred)\n",
    "print(\"Matthews Correlation Coefficient (MCC): {:.3f}\".format(mcc))\n",
    "\n",
    "# Cohen's Kappa\n",
    "kappa = cohen_kappa_score(y_test, y_pred)\n",
    "print(\"Cohen's Kappa: {:.3f}\".format(kappa))\n",
    "\n",
    "# 4. Plotting the Confusion Matrix\n",
    "plt.figure(figsize=(6, 5))\n",
    "plt.imshow(cm, interpolation='nearest', aspect='auto')\n",
    "plt.title(\"Confusion Matrix\")\n",
    "plt.colorbar()\n",
    "num_classes = cm.shape[0]\n",
    "tick_marks = np.arange(num_classes)\n",
    "plt.xticks(tick_marks, tick_marks)\n",
    "plt.yticks(tick_marks, tick_marks)\n",
    "plt.ylabel('True label')\n",
    "plt.xlabel('Predicted label')\n",
    "\n",
    "# Add text annotations inside the cells\n",
    "thresh = cm.max() / 2.0\n",
    "for i in range(num_classes):\n",
    "    for j in range(num_classes):\n",
    "        plt.text(j, i, format(cm[i, j], 'd'),\n",
    "                 ha=\"center\", va=\"center\",\n",
    "                 color=\"white\" if cm[i, j] > thresh else \"black\")\n",
    "\n",
    "plt.tight_layout()\n",
    "plt.show()"
   ]
  },
  {
   "cell_type": "code",
   "execution_count": null,
   "id": "65df4a4e-8541-4b68-b5f1-7412841c4479",
   "metadata": {},
   "outputs": [],
   "source": [
    "import shap\n",
    "\n",
    "explainer = shap.Explainer(rf_clf, X_train)\n",
    "shap_values = explainer(X_test)\n",
    "\n",
    "plt.figure(figsize=(15,6))\n",
    "shap.summary_plot(shap_values, X_test)\n"
   ]
  },
  {
   "cell_type": "markdown",
   "id": "943ff11b-a549-4bf8-a069-b7644977301f",
   "metadata": {},
   "source": [
    "## Feature Plots "
   ]
  },
  {
   "cell_type": "code",
   "execution_count": null,
   "id": "351d3a0b-3e5e-475b-9fce-8f700188dfda",
   "metadata": {},
   "outputs": [],
   "source": [
    "from scipy.stats import shapiro\n",
    "num_columns = 9\n",
    "\n",
    "list_ = ['Max (Power Spectrum, FT) ','Mean (Power Spectrum, FT) ','Skewness (Power Spectrum, FT) ','Kurtosis (Power Spectrum, FT)',  \n",
    "              'Mean (DWT coeffs)', 'Power (DWT coeffs)', 'STD (DWT coeffs)', 'Skewness (DWT coeffs)'\n",
    "            , 'Kurtosis (DWT coeffs)']\n",
    "fig, axes = plt.subplots(nrows=3, ncols=3, figsize=(15, 15))\n",
    "for i in range(num_columns):\n",
    "    ax = axes[i // 3, i % 3]\n",
    "    ax.hist(features_vm_freq_edited[:, i], bins=500, alpha=0.7, color='blue')\n",
    "    #ax.set_xlabel(f'Column {i+1} Values')\n",
    "    ax.set_ylabel('Frequency')\n",
    "    stat, p = shapiro(features_vm_freq_edited[:, i])\n",
    "    ax.text(0.5, 0.8, f\"{stat:.3f}\", color='black', fontsize=12, transform=ax.transAxes)\n",
    "    ax.text(0.5, 0.7, f\"p = {p:.2e}\", color='black', fontsize=12, transform=ax.transAxes)\n",
    "    ax.set_title(list_[i])\n",
    "    #plt.show()\n",
    "    # \n",
    "    # print(stat, p)\n",
    "plt.tight_layout()\n",
    "plt.show()"
   ]
  },
  {
   "cell_type": "markdown",
   "id": "e4105d23-0e27-4953-a43d-edda75676d3a",
   "metadata": {},
   "source": [
    "## More Plots"
   ]
  },
  {
   "cell_type": "code",
   "execution_count": null,
   "id": "89cc6706-d689-4dc3-a387-9eee31e90964",
   "metadata": {},
   "outputs": [],
   "source": [
    "vm_labels, num_events = create_labels(unique_events) #outputs the labels [file number] for each event and number of events detected in each file "
   ]
  },
  {
   "cell_type": "code",
   "execution_count": null,
   "id": "80caa37b-4c26-4448-8305-8079aa100784",
   "metadata": {},
   "outputs": [],
   "source": [
    "neuron_labels = []\n",
    "\n",
    "# Dictionary to map unique experiment numbers to labels\n",
    "experiment_map = {}\n",
    "\n",
    "# Counter for labeling experiments\n",
    "label_counter = 0\n",
    "\n",
    "items = os.listdir(main_dir)\n",
    "file_names = sorted(items)\n",
    "# Loop through each file name\n",
    "for file in file_names:\n",
    "    if file.endswith('.npz'):\n",
    "        # Extract the first 13 characters from the file name\n",
    "        experiment = file[:13]\n",
    "        #print(experiment)\n",
    "        # Check if the experiment is already in the map\n",
    "        if experiment not in experiment_map:\n",
    "            # If not, assign it the next available label\n",
    "            experiment_map[experiment] = label_counter\n",
    "            label_counter += 1\n",
    "        \n",
    "        # Append the label to the experiment_labels list\n",
    "        neuron_labels.append(experiment_map[experiment])\n",
    "\n",
    "# Display the experiment labels list\n",
    "#print(neuron_labels) # represents experiments according to neuron labels {45 neurons in total} \n",
    "#len(neuron_labels)"
   ]
  },
  {
   "cell_type": "code",
   "execution_count": null,
   "id": "6f462690-367c-4562-8d5f-5ccb92a72680",
   "metadata": {},
   "outputs": [],
   "source": [
    "import numpy as np\n",
    "import matplotlib.pyplot as plt\n",
    "from collections import defaultdict\n",
    "\n",
    "def compute_power_spectrum(signal, fs=1.0):\n",
    "    \"\"\"\n",
    "    Computes the power spectrum of a given 1D signal using FFT.\n",
    "    \n",
    "    Parameters:\n",
    "    -----------\n",
    "    signal : array-like\n",
    "        Time-domain signal.\n",
    "    fs : float\n",
    "        Sampling frequency (samples per unit time).\n",
    "        \n",
    "    Returns:\n",
    "    --------\n",
    "    freq : np.ndarray\n",
    "        Array of frequency bins (from 0 to fs/2 for rfft).\n",
    "    power : np.ndarray\n",
    "        Power at each frequency bin.\n",
    "    \"\"\"\n",
    "    n = len(signal)\n",
    "    # Frequencies for the real-valued FFT (rfft)\n",
    "    freq = np.fft.rfftfreq(n, d=1.0/fs)\n",
    "    # Compute the FFT of the signal\n",
    "    fft_vals = np.fft.rfft(signal)\n",
    "    # Power is magnitude squared, normalized by the signal length\n",
    "    power = (np.abs(fft_vals) ** 2) / n\n",
    "    return freq, power\n",
    "\n",
    "def plot_group_power_spectra(signals, labels, fs=8550.0, num_groups=7):\n",
    "    \"\"\"\n",
    "    Plots the average power spectrum for each group label.\n",
    "    \n",
    "    Parameters:\n",
    "    -----------\n",
    "    signals : list of np.ndarray\n",
    "        List of 1D signals (each can be of varying length).\n",
    "    labels : list or np.ndarray of int\n",
    "        List of group labels (e.g., integers 0 through 6), \n",
    "        same length as signals.\n",
    "    fs : float\n",
    "        Sampling frequency for the signals.\n",
    "    num_groups : int\n",
    "        Total number of possible groups (e.g., 7 if labels range 0..6).\n",
    "    \"\"\"\n",
    "    # Group signals by their labels\n",
    "    group_signals = defaultdict(list)\n",
    "    for sig, lbl in zip(signals, labels):\n",
    "        group_signals[lbl].append(sig)\n",
    "    \n",
    "    plt.figure(figsize=(10, 6))\n",
    "    \n",
    "    # For each group, compute and plot the average power spectrum\n",
    "    coun = 0\n",
    "    for g in range(7):\n",
    "        if len(group_signals[g]) == 0:\n",
    "            \n",
    "            continue  # Skip groups with no signals\n",
    "        \n",
    "        power_spectra = []\n",
    "        for signal in group_signals[g]:\n",
    "            if len(signal) < 200:\n",
    "                coun = coun + 1\n",
    "                continue \n",
    "            freq, power = welch(signal, fs=fs, nperseg=200, noverlap=50)\n",
    "            power_spectra.append(power)\n",
    "        \n",
    "        # Compute the average power across all signals in the group\n",
    "        avg_power = np.mean(power_spectra, axis=0)\n",
    "        \n",
    "        # Plot\n",
    "        plt.plot(freq, avg_power, label=f\"Group {g}\")\n",
    "    \n",
    "    plt.title(\"Power Spectra by Group\")\n",
    "    plt.xlabel(\"Frequency (Hz)\")\n",
    "    plt.ylabel(\"Power\")\n",
    "    plt.legend()\n",
    "    plt.xlim(0,500)\n",
    "    plt.show()\n",
    "    print(coun)\n",
    "# Example usage:\n",
    "if __name__ == \"__main__\":\n",
    "    # Example signals (varying lengths)\n",
    "    # Example labels (0-6), same length as 'signals'\n",
    "    events_concat = []\n",
    "    for ex in unique_events:\n",
    "        for sig in ex:\n",
    "            events_concat.append(np.array(sig))\n",
    "            \n",
    "    # Plot the power spectra\n",
    "    plot_group_power_spectra(events_concat, labels, fs=8550.0, num_groups=7)\n"
   ]
  },
  {
   "cell_type": "code",
   "execution_count": null,
   "id": "502f3727-d75b-416b-8608-55a18f8213a8",
   "metadata": {},
   "outputs": [],
   "source": [
    "import numpy as np\n",
    "import matplotlib.pyplot as plt\n",
    "from collections import defaultdict\n",
    "\n",
    "def compute_power_spectrum(signal, fs=1.0):\n",
    "    \"\"\"\n",
    "    Computes the power spectrum of a given 1D signal using FFT.\n",
    "    \n",
    "    Parameters:\n",
    "    -----------\n",
    "    signal : array-like\n",
    "        Time-domain signal.\n",
    "    fs : float\n",
    "        Sampling frequency (samples per unit time).\n",
    "        \n",
    "    Returns:\n",
    "    --------\n",
    "    freq : np.ndarray\n",
    "        Array of frequency bins (from 0 to fs/2 for rfft).\n",
    "    power : np.ndarray\n",
    "        Power at each frequency bin.\n",
    "    \"\"\"\n",
    "    n = len(signal)\n",
    "    # Frequencies for the real-valued FFT (rfft)\n",
    "    freq = np.fft.rfftfreq(n, d=1.0/fs)\n",
    "    # Compute the FFT of the signal\n",
    "    fft_vals = np.fft.rfft(signal)\n",
    "    # Power is magnitude squared, normalized by the signal length\n",
    "    power = (np.abs(fft_vals) ** 2) / n\n",
    "    return freq, power\n",
    "\n",
    "def plot_group_power_spectra(signals, labels, fs=8550.0, num_groups=7):\n",
    "    \"\"\"\n",
    "    Plots the average power spectrum for each group label.\n",
    "    \n",
    "    Parameters:\n",
    "    -----------\n",
    "    signals : list of np.ndarray\n",
    "        List of 1D signals (each can be of varying length).\n",
    "    labels : list or np.ndarray of int\n",
    "        List of group labels (e.g., integers 0 through 6), \n",
    "        same length as signals.\n",
    "    fs : float\n",
    "        Sampling frequency for the signals.\n",
    "    num_groups : int\n",
    "        Total number of possible groups (e.g., 7 if labels range 0..6).\n",
    "    \"\"\"\n",
    "    # Group signals by their labels\n",
    "    group_signals = defaultdict(list)\n",
    "    for sig, lbl in zip(signals, labels):\n",
    "        group_signals[lbl].append(sig)\n",
    "    \n",
    "    plt.figure(figsize=(10, 6))\n",
    "    \n",
    "    # For each group, compute and plot the average power spectrum\n",
    "    coun = 0\n",
    "    g = 0\n",
    "    # if len(group_signals[g]) == 0:\n",
    "        \n",
    "    #       # Skip groups with no signals\n",
    "    \n",
    "    power_spectra = []\n",
    "    for signal in group_signals[g]:\n",
    "        if len(signal) < 200:\n",
    "            coun = coun + 1\n",
    "            continue \n",
    "        freq, power = welch(signal, fs=fs, nperseg=200, noverlap=50)\n",
    "        power_spectra.append(power)\n",
    "        plt.plot(power)\n",
    "    \n",
    "    # Compute the average power across all signals in the group\n",
    "    avg_power = np.mean(power_spectra, axis=0)\n",
    "    \n",
    "    # Plot\n",
    "    plt.plot(avg_power, label=f\"Group {g}\")\n",
    "    \n",
    "    plt.title(\"Power Spectra by Group\")\n",
    "    plt.xlabel(\"Frequency (Hz)\")\n",
    "    plt.ylabel(\"Power\")\n",
    "    plt.legend()\n",
    "    plt.xlim(0,10)\n",
    "    plt.show()\n",
    "    print(coun)\n",
    "# Example usage:\n",
    "if __name__ == \"__main__\":\n",
    "    # Example signals (varying lengths)\n",
    "    # Example labels (0-6), same length as 'signals'\n",
    "    events_concat = []\n",
    "    for ex in unique_events:\n",
    "        for sig in ex:\n",
    "            events_concat.append(np.array(sig))\n",
    "            \n",
    "    # Plot the power spectra\n",
    "    plot_group_power_spectra(events_concat, labels, fs=8550.0, num_groups=7)"
   ]
  }
 ],
 "metadata": {
  "kernelspec": {
   "display_name": "Python 3 (ipykernel)",
   "language": "python",
   "name": "python3"
  },
  "language_info": {
   "codemirror_mode": {
    "name": "ipython",
    "version": 3
   },
   "file_extension": ".py",
   "mimetype": "text/x-python",
   "name": "python",
   "nbconvert_exporter": "python",
   "pygments_lexer": "ipython3",
   "version": "3.12.3"
  }
 },
 "nbformat": 4,
 "nbformat_minor": 5
}
